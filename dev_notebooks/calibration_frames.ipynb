{
 "cells": [
  {
   "cell_type": "code",
   "execution_count": 1,
   "metadata": {},
   "outputs": [],
   "source": [
    "import numpy as np\n",
    "from matplotlib import pyplot as plt\n",
    "\n",
    "import rawpy, PIL\n",
    "import pickle\n",
    "from glob import glob\n",
    "\n",
    "rawpy_params = {'use_camera_wb':True, 'no_auto_scale':False, \n",
    "                'no_auto_bright':True, 'chromatic_aberration':(1,1)}"
   ]
  },
  {
   "cell_type": "markdown",
   "metadata": {},
   "source": [
    "# Concepts behind calibration frames\n",
    "\n",
    "When capturing the night sky, the objects we try to capture are often so faint that photon counts end up being dominated not by the source we want to image, but rather photons from everything else and even imperfections in our own camera. If we were to process raw photographs of the sky we would find numerous issues from grainy images, to bad colors, to vignette. All of these will detract from the final nebula or galaxy.\n",
    "\n",
    "Thankfully, science has our back, and we've developed rather simplistic techniques with incredible potency in increasing the fidelity of our final image which end up being the exact same techniques used to create images from Hubble or even JWST!  To start, we need to understand the theory behind what our camera is actually doing when taking an image.\n",
    "\n",
    "## What is an image?\n",
    "\n",
    "While older cameras might use photographic film which crystalizes when exposed to light, modern cameras leverage Charge-Coupled Devices (CCD). These tiny circuits, when exposed to light will generate a small charge proportional to the amount of light hitting the surface. As more light hits it, more charge builds up. Then, when the camera closes, the charge is held in place until a 'shift register' mechanism moves all of the charge to a device which can measure the amount of charge that each pixel recieved. This means that the amount of charge read is roughly proportional to the amount of light that pixel recived and therefor, the brightness of that pixel in the resulting image, $b$, is proportional to the amount of light recieved. \n",
    "\n",
    "$$ b \\propto q \\propto n_{\\rm{photons}} $$\n",
    "\n",
    "In a perfect world, this would be the only equation you would need for astrophotography. Sadly, imperfection is the name of the game and we have to deal with noise too. To quantify a particular pixel's response to all sources of noise, we need an equation which ecapsulates them all. We can do that through the following equation:\n",
    "\n",
    "$$ \\sigma^2_{\\rm{total}}(t) = \\sigma^2_{\\rm{thermal}}(T)(t) + \\sigma^2_{\\rm{read}} + \\sigma^2_{\\rm{sky}}(t) + \\sigma^2_{\\rm{source}}(t) $$\n",
    "\n",
    "\n",
    "There are 4 sources of noise in this equation:\n",
    "\n",
    "1. Thermal Noise\n",
    "2. Read noise\n",
    "3. Background (sky) noise\n",
    "4. Source (shot) noise \n",
    "\n",
    "\n",
    "### Thermal noise\n",
    "\n",
    "When taking an image, a camera measures the built up charge of a CCD. While ideally this charge would result purely from photons from our source, we can get all sorts of other processes that can create a residual charge as well. Cheif among these is thermal processes. Since the detector itself has some non-zero temperature, thanks to blackbody radiation, the CCD and other parts of your camera will produce some amount of photon radiation. When these photons land on the CCD, just as if they were a galaxy, the CCD will build up charge. In general the higher the temperature of the camera, the more thermal noise you will find.\n",
    "\n",
    "In astrophotography, we can figure out the average amount of thermal noise is in our camera through calibration frames often called \"Darks\" or \"Dark frames\". These must be taken at the same temperature that the Lights or Light frames were taken and with the exact same settings including focal length/zoom, focus, exposure time, ISO and white balance, though this time, the goal isn't to image anything at all. Instead they should be taken with the lens cap **on**. It may sound weird, but if we want to figure out how much thermal noise we expect in our CCD, we need to count how much thermal noise we have in the absense of any typical sources of light.\n",
    "\n",
    "###\n"
   ]
  },
  {
   "cell_type": "markdown",
   "metadata": {},
   "source": [
    "## Constructing a master bias frame\n",
    "\n",
    "In order to calculate how much noise our CCD creates when reading in the data from each pixel, we need to load in all of our bias frames and combine them.\n",
    "\n",
    "blah, blah\n",
    "\n",
    "\n",
    "Medians should be more robust to hot pixels, but we can try both.\n",
    "- Maybe there's a way to calculate the median of the pixels without loading all of them in, but I don't know it and couldn't find it online\n",
    "- Averages can absolutely be calculated without loading them in, but if we want to clip extrema, we need to anyway"
   ]
  },
  {
   "cell_type": "code",
   "execution_count": 3,
   "metadata": {},
   "outputs": [],
   "source": [
    "# Glob all the bias frames\n",
    "bias_files = glob('../photos/bias/*.CR3')\n",
    "nbiases = len(bias_files)\n",
    "\n",
    "all_biases = None\n",
    "for i in range(nbiases): \n",
    "    with rawpy.imread(bias_files[i]) as raw:\n",
    "        rgb = raw.postprocess(**rawpy_params)\n",
    "\n",
    "    if all_biases is None:\n",
    "        shape = (nbiases, rgb.shape[0], rgb.shape[1], 3)\n",
    "        all_biases = np.zeros(shape, dtype=np.uint8) # Save memory. Just use uint8\n",
    "    \n",
    "    all_biases[i] = rgb"
   ]
  },
  {
   "cell_type": "code",
   "execution_count": 4,
   "metadata": {},
   "outputs": [
    {
     "data": {
      "text/plain": [
       "dtype('uint8')"
      ]
     },
     "execution_count": 4,
     "metadata": {},
     "output_type": "execute_result"
    }
   ],
   "source": [
    "all_biases[0].dtype"
   ]
  },
  {
   "cell_type": "code",
   "execution_count": 6,
   "metadata": {},
   "outputs": [
    {
     "data": {
      "text/plain": [
       "array([[[0. , 0. , 0. ],\n",
       "        [0.5, 0. , 0. ],\n",
       "        [0. , 0. , 0. ],\n",
       "        ...,\n",
       "        [0. , 0. , 0. ],\n",
       "        [0. , 0. , 0. ],\n",
       "        [0. , 0. , 0. ]],\n",
       "\n",
       "       [[0. , 0. , 0. ],\n",
       "        [0. , 0. , 0. ],\n",
       "        [0. , 0. , 0. ],\n",
       "        ...,\n",
       "        [0. , 0. , 0. ],\n",
       "        [0. , 0. , 0. ],\n",
       "        [0. , 0. , 0. ]],\n",
       "\n",
       "       [[0. , 0. , 0. ],\n",
       "        [0. , 0. , 0. ],\n",
       "        [0. , 0. , 0. ],\n",
       "        ...,\n",
       "        [0. , 0.5, 0. ],\n",
       "        [0. , 0. , 0. ],\n",
       "        [0. , 0. , 0.5]],\n",
       "\n",
       "       ...,\n",
       "\n",
       "       [[0. , 0. , 0. ],\n",
       "        [0.5, 0. , 0. ],\n",
       "        [1. , 0. , 0. ],\n",
       "        ...,\n",
       "        [0.5, 0. , 0. ],\n",
       "        [0.5, 0. , 0. ],\n",
       "        [0.5, 0. , 0. ]],\n",
       "\n",
       "       [[0. , 0. , 0.5],\n",
       "        [0. , 0. , 1. ],\n",
       "        [0.5, 0. , 0. ],\n",
       "        ...,\n",
       "        [1. , 0. , 0. ],\n",
       "        [0. , 0. , 0. ],\n",
       "        [0. , 0. , 0. ]],\n",
       "\n",
       "       [[0. , 0. , 0. ],\n",
       "        [0. , 0. , 0. ],\n",
       "        [1. , 0. , 0. ],\n",
       "        ...,\n",
       "        [0.5, 0. , 0. ],\n",
       "        [1. , 0. , 0. ],\n",
       "        [1. , 0. , 0. ]]], shape=(4020, 6024, 3), dtype=float16)"
      ]
     },
     "execution_count": 6,
     "metadata": {},
     "output_type": "execute_result"
    }
   ],
   "source": [
    "np.median(all_biases, axis=0).astype(np.float16)"
   ]
  },
  {
   "cell_type": "code",
   "execution_count": 2,
   "metadata": {},
   "outputs": [
    {
     "ename": "NameError",
     "evalue": "name 'all_biases' is not defined",
     "output_type": "error",
     "traceback": [
      "\u001b[0;31m---------------------------------------------------------------------------\u001b[0m",
      "\u001b[0;31mNameError\u001b[0m                                 Traceback (most recent call last)",
      "Cell \u001b[0;32mIn[2], line 3\u001b[0m\n\u001b[1;32m      1\u001b[0m \u001b[38;5;66;03m# Medians\u001b[39;00m\n\u001b[0;32m----> 3\u001b[0m bias_median \u001b[38;5;241m=\u001b[39m np\u001b[38;5;241m.\u001b[39mmedian(\u001b[43mall_biases\u001b[49m, axis\u001b[38;5;241m=\u001b[39m\u001b[38;5;241m0\u001b[39m)\n\u001b[1;32m      5\u001b[0m plt\u001b[38;5;241m.\u001b[39mimshow(bias_median)\n\u001b[1;32m      6\u001b[0m plt\u001b[38;5;241m.\u001b[39mtitle(\u001b[38;5;124m'\u001b[39m\u001b[38;5;124mBias Median\u001b[39m\u001b[38;5;124m'\u001b[39m)\n",
      "\u001b[0;31mNameError\u001b[0m: name 'all_biases' is not defined"
     ]
    }
   ],
   "source": [
    "# Medians\n",
    "\n",
    "bias_median = np.median(all_biases, axis=0)\n",
    "\n",
    "plt.imshow(bias_median)\n",
    "plt.title('Bias Median')\n",
    "plt.show()\n",
    "\n",
    "\n",
    "# Averages with sigma clipping\n",
    "#sigma_clip = 3\n",
    "#std = np.std(all_biases, axis=0)\n",
    "\n",
    "#clipped = all_biases.copy()\n",
    "#clipped[np.abs(all_biases - np.average(all_biases, axis=0)) > sigma_clip*std] = np.nan\n",
    "\n",
    "\n",
    "#bias_mean = np.average(clipped, axis=0, nan_policy='omit')\n"
   ]
  },
  {
   "cell_type": "code",
   "execution_count": null,
   "metadata": {},
   "outputs": [],
   "source": []
  }
 ],
 "metadata": {
  "kernelspec": {
   "display_name": "astrophoto",
   "language": "python",
   "name": "python3"
  },
  "language_info": {
   "codemirror_mode": {
    "name": "ipython",
    "version": 3
   },
   "file_extension": ".py",
   "mimetype": "text/x-python",
   "name": "python",
   "nbconvert_exporter": "python",
   "pygments_lexer": "ipython3",
   "version": "3.12.8"
  }
 },
 "nbformat": 4,
 "nbformat_minor": 2
}
